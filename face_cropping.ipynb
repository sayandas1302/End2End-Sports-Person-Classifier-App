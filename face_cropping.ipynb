{
 "cells": [
  {
   "cell_type": "markdown",
   "metadata": {},
   "source": [
    "## Project Name: Sports Person Classifier\n",
    "Photo Cropping"
   ]
  },
  {
   "cell_type": "markdown",
   "metadata": {},
   "source": [
    "### Library Call"
   ]
  },
  {
   "cell_type": "code",
   "execution_count": 1,
   "metadata": {},
   "outputs": [],
   "source": [
    "import cv2 as cv\n",
    "import warnings\n",
    "\n",
    "warnings.filterwarnings('ignore')"
   ]
  },
  {
   "cell_type": "markdown",
   "metadata": {},
   "source": [
    "### Classifier Selection"
   ]
  },
  {
   "cell_type": "code",
   "execution_count": 2,
   "metadata": {},
   "outputs": [],
   "source": [
    "face_classifier = cv.CascadeClassifier('opencv/haarcascade_face.xml')"
   ]
  },
  {
   "cell_type": "markdown",
   "metadata": {},
   "source": [
    "### Data Cleaning: Detecting a proper face and cropping"
   ]
  },
  {
   "cell_type": "code",
   "execution_count": 3,
   "metadata": {},
   "outputs": [],
   "source": [
    "def detectFace(img):\n",
    "    faces=[]\n",
    "    gray = cv.cvtColor(img, cv.COLOR_BGR2GRAY)\n",
    "    face_rect = face_classifier.detectMultiScale(gray, 1.3, 5)\n",
    "    for (x,y,h,k) in face_rect:\n",
    "        faces.append(img[y:y+k, x:x+h])\n",
    "    return faces"
   ]
  },
  {
   "cell_type": "code",
   "execution_count": 4,
   "metadata": {},
   "outputs": [],
   "source": [
    "import os\n",
    "import shutil\n",
    "\n",
    "image_dir_path = 'Dataset/images_dataset/'\n",
    "cropped_dir_path = 'Dataset/cropped'\n",
    "people = os.listdir(image_dir_path)\n",
    "people_name = [(person.split('_')[0]+' '+person.split('_')[1]).title() for person in people]"
   ]
  },
  {
   "cell_type": "code",
   "execution_count": 5,
   "metadata": {},
   "outputs": [
    {
     "name": "stdout",
     "output_type": "stream",
     "text": [
      "Lionel Messi----------------\n",
      "folder created : Dataset/cropped/lionel_messi\n",
      "initializing face detection procedure----------\n",
      "faces saved @ Dataset/cropped/lionel_messi\n",
      "Maria Sharapova----------------\n",
      "folder created : Dataset/cropped/maria_sharapova\n",
      "initializing face detection procedure----------\n",
      "faces saved @ Dataset/cropped/maria_sharapova\n",
      "Roger Federer----------------\n",
      "folder created : Dataset/cropped/roger_federer\n",
      "initializing face detection procedure----------\n",
      "faces saved @ Dataset/cropped/roger_federer\n",
      "Serena Williams----------------\n",
      "folder created : Dataset/cropped/serena_williams\n",
      "initializing face detection procedure----------\n",
      "faces saved @ Dataset/cropped/serena_williams\n",
      "Virat Kohli----------------\n",
      "folder created : Dataset/cropped/virat_kohli\n",
      "initializing face detection procedure----------\n",
      "faces saved @ Dataset/cropped/virat_kohli\n"
     ]
    }
   ],
   "source": [
    "if os.path.isdir(cropped_dir_path):\n",
    "    shutil.rmtree(cropped_dir_path)\n",
    "os.mkdir(cropped_dir_path)\n",
    "\n",
    "for index, person in enumerate(people):\n",
    "    print(f'{people_name[index]}----------------')\n",
    "    \n",
    "    os.mkdir(cropped_dir_path+'/'+person)\n",
    "    print(f'folder created : {cropped_dir_path}/{person}')\n",
    "    print('initializing face detection procedure----------')\n",
    "    \n",
    "    path = image_dir_path+person+'/'\n",
    "    count = 1\n",
    "\n",
    "    for image in os.listdir(path):\n",
    "        image_path = f'{path}{image}'\n",
    "        img = cv.imread(image_path)\n",
    "        faces = detectFace(img)\n",
    "        if len(faces)>0:\n",
    "            for face in faces:\n",
    "                cv.imwrite(cropped_dir_path+'/'+person+'/'+person+str(count)+'.jpg',face)\n",
    "                count = count+1\n",
    "\n",
    "    print(f'faces saved @ {cropped_dir_path}/{person}')\n"
   ]
  }
 ],
 "metadata": {
  "kernelspec": {
   "display_name": "Python 3.10.6 ('spcenv': venv)",
   "language": "python",
   "name": "python3"
  },
  "language_info": {
   "codemirror_mode": {
    "name": "ipython",
    "version": 3
   },
   "file_extension": ".py",
   "mimetype": "text/x-python",
   "name": "python",
   "nbconvert_exporter": "python",
   "pygments_lexer": "ipython3",
   "version": "3.10.6"
  },
  "orig_nbformat": 4,
  "vscode": {
   "interpreter": {
    "hash": "32b3b429b20873bfe670247502ac11fa6e39cc11b8cfcc83dfdd1d9116840ba7"
   }
  }
 },
 "nbformat": 4,
 "nbformat_minor": 2
}
